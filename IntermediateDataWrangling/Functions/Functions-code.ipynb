{
 "cells": [
  {
   "cell_type": "code",
   "execution_count": 1,
   "id": "c0e47b78",
   "metadata": {},
   "outputs": [],
   "source": [
    "#######################################################\n",
    "#######################################################\n",
    "############    COPYRIGHT - DATA SOCIETY   ############\n",
    "#######################################################\n",
    "#######################################################\n",
    "\n",
    "## INTERMEDIATEPYTHON/FUNCTIONS/INTERMEDIATEPYTHON FUNCTIONS 1 ##\n",
    "\n",
    "## NOTE: To run individual pieces of code, select the line of code and\n",
    "##       press ctrl + enter for PCs or command + enter for Macs"
   ]
  },
  {
   "cell_type": "code",
   "execution_count": 2,
   "id": "3c72c062",
   "metadata": {},
   "outputs": [
    {
     "name": "stdout",
     "output_type": "stream",
     "text": [
      "3.14\n"
     ]
    }
   ],
   "source": [
    "# =================================================-\n",
    "#### Slide 8: User-defined functions in Python  ####\n",
    "\n",
    "\n",
    "# Define a function that prints the value of `Pi`.\n",
    "def print_pi():  # <- function name\n",
    "    print(3.14)  # <- action to perform\n",
    "\n",
    "\n",
    "print_pi()"
   ]
  },
  {
   "cell_type": "code",
   "execution_count": 4,
   "id": "b4b68237",
   "metadata": {},
   "outputs": [
    {
     "name": "stdout",
     "output_type": "stream",
     "text": [
      "3.14\n"
     ]
    }
   ],
   "source": [
    "# =================================================-\n",
    "#### Slide 9: Functions in Python with one or more arguments  ####\n",
    "\n",
    "\n",
    "# Define a function that prints the value of `Pi`\n",
    "# and takes a number of decimal points to which we want to round the number.\n",
    "def print_pi(num_decimals=2):  # <- function name + argument(s)\n",
    "    pi = 3.14159265359  # <- action to perform\n",
    "    rounded_pi = round(pi, num_decimals)  # <- action to perform\n",
    "    print(rounded_pi)  # <- action to perform\n",
    "\n",
    "\n",
    "# Print value of pi rounded to 4 decimal points.\n",
    "print_pi()"
   ]
  },
  {
   "cell_type": "code",
   "execution_count": 4,
   "id": "1b4e187a-cfa9-4c4f-8324-2a7512712235",
   "metadata": {},
   "outputs": [],
   "source": [
    "from math import pi"
   ]
  },
  {
   "cell_type": "code",
   "execution_count": 5,
   "id": "48e1bfcb-abf6-4b6b-8615-ac772ae8b908",
   "metadata": {},
   "outputs": [],
   "source": [
    "from numpy import pi"
   ]
  },
  {
   "cell_type": "code",
   "execution_count": 6,
   "id": "7ee40c09-7e61-4051-9aa4-d323ce9f0eb4",
   "metadata": {},
   "outputs": [
    {
     "data": {
      "text/plain": [
       "3.142"
      ]
     },
     "execution_count": 6,
     "metadata": {},
     "output_type": "execute_result"
    }
   ],
   "source": [
    "round(pi, 3)"
   ]
  },
  {
   "cell_type": "code",
   "execution_count": 7,
   "id": "c7457e39",
   "metadata": {},
   "outputs": [],
   "source": [
    "# =================================================-\n",
    "#### Slide 10: Functions in Python that return a value  ####\n",
    "\n",
    "\n",
    "# Define a function that prints the value of `Pi`,\n",
    "# takes a number of decimal points to which we want to round the number,\n",
    "# and returns the value back to us.\n",
    "def get_pi(num_decimals):  # <- function name + argument(s)\n",
    "    pi = 3.14159265359  # <- action to perform\n",
    "    rounded_pi = round(pi, num_decimals)  # <- action to perform\n",
    "    return rounded_pi  # <- value to return"
   ]
  },
  {
   "cell_type": "code",
   "execution_count": 8,
   "id": "50e57aeb",
   "metadata": {},
   "outputs": [
    {
     "name": "stdout",
     "output_type": "stream",
     "text": [
      "3.1416\n",
      "3.1416\n"
     ]
    }
   ],
   "source": [
    "# =================================================-\n",
    "#### Slide 11: Functions in Python that return a value (cont'd)  ####\n",
    "\n",
    "# Return a value of pi rounded to 4 decimal points.\n",
    "print(get_pi(4))\n",
    "\n",
    "# Return a value of pi rounded to 4 decimal points.\n",
    "# Assign it to a variable.\n",
    "pi_4 = get_pi(4)\n",
    "print(pi_4)"
   ]
  },
  {
   "cell_type": "code",
   "execution_count": 5,
   "id": "cd4b0775",
   "metadata": {},
   "outputs": [],
   "source": [
    "# =================================================-\n",
    "#### Slide 13: Functions in Python: make_full_name  ####\n",
    "\n",
    "\n",
    "# Define a function that concatenates\n",
    "# first and last names.\n",
    "def make_full_name(first_name, last_name):\n",
    "    full_name = first_name + \" \" + last_name\n",
    "    return full_name"
   ]
  },
  {
   "cell_type": "code",
   "execution_count": 6,
   "id": "64457c91",
   "metadata": {},
   "outputs": [
    {
     "name": "stdout",
     "output_type": "stream",
     "text": [
      "Harry Potter\n",
      "Harry Potter\n"
     ]
    }
   ],
   "source": [
    "# =================================================-\n",
    "#### Slide 14: Functions in Python: calling a function  ####\n",
    "\n",
    "# Call the function.\n",
    "print(make_full_name(\"Harry\", \"Potter\"))\n",
    "# Call the function and save\n",
    "# output to variable.\n",
    "output_name = make_full_name(\"Harry\", \"Potter\")\n",
    "print(output_name)"
   ]
  },
  {
   "cell_type": "code",
   "execution_count": 9,
   "id": "d934378e-70cb-427d-af42-97fe90b94155",
   "metadata": {
    "tags": []
   },
   "outputs": [
    {
     "data": {
      "text/plain": [
       "'Alfred Newman'"
      ]
     },
     "execution_count": 9,
     "metadata": {},
     "output_type": "execute_result"
    }
   ],
   "source": [
    "make_full_name(\"Alfred\", \"Newman\")"
   ]
  },
  {
   "cell_type": "code",
   "execution_count": 21,
   "id": "e3be08a4-4452-4461-b1b1-09d7b152f582",
   "metadata": {
    "tags": []
   },
   "outputs": [],
   "source": [
    "def make_full_name(*args):\n",
    "    return \" \".join(str(a) for a in args)"
   ]
  },
  {
   "cell_type": "code",
   "execution_count": 35,
   "id": "01db8c88-eba0-4bb3-bd21-6f840cd14fb1",
   "metadata": {
    "tags": []
   },
   "outputs": [],
   "source": [
    "import numpy as np\n",
    "arr = np.array([[\"a\"], [\"b\"]])"
   ]
  },
  {
   "cell_type": "code",
   "execution_count": 38,
   "id": "34b3ade4-9f5c-40b6-9ac3-e66d1fa06e09",
   "metadata": {
    "tags": []
   },
   "outputs": [
    {
     "data": {
      "text/plain": [
       "(2, 1)"
      ]
     },
     "execution_count": 38,
     "metadata": {},
     "output_type": "execute_result"
    }
   ],
   "source": [
    "arr.shape"
   ]
  },
  {
   "cell_type": "code",
   "execution_count": 39,
   "id": "56fe7085-6b9c-45c7-b8a0-5d54d36d1678",
   "metadata": {
    "tags": []
   },
   "outputs": [
    {
     "data": {
      "text/plain": [
       "\"[['a']\\n ['b']]\""
      ]
     },
     "execution_count": 39,
     "metadata": {},
     "output_type": "execute_result"
    }
   ],
   "source": [
    "make_full_name(arr)"
   ]
  },
  {
   "cell_type": "code",
   "execution_count": null,
   "id": "b3c86de7-9e12-42f7-8963-ecfa6e4ade72",
   "metadata": {},
   "outputs": [],
   "source": []
  },
  {
   "cell_type": "code",
   "execution_count": 40,
   "id": "ae9487cc",
   "metadata": {},
   "outputs": [],
   "source": [
    "# =================================================-\n",
    "#### Slide 15: Functions in Python: evaluate_car_price  ####\n",
    "\n",
    "\n",
    "def evaluate_car_price(price):\n",
    "    if price > 38000:\n",
    "        return \"Leave the dealership immediately, this is a rip off!\"\n",
    "    elif price > 22000 and price <= 38000:\n",
    "        return \"Take the car and go celebrate, you can afford it!\"\n",
    "    else:\n",
    "        return \"Leave the dealership immediately, this is a scam!\""
   ]
  },
  {
   "cell_type": "code",
   "execution_count": 54,
   "id": "9fd1b906-915f-4665-b601-d70a84e8dd9e",
   "metadata": {
    "tags": []
   },
   "outputs": [],
   "source": [
    "def evaluate_car_price(price):\n",
    "    return (\n",
    "        \"Leave the dealership immediately, this is a rip off!\" * (expensive := price > 38000)\n",
    "        + \"Take the car and go celebrate, you can afford it!\" * (mid := price > 22000 and price <= 38000)\n",
    "        + \"Leave the dealership immediately, this is a scam!\" * (not expensive and not mid)\n",
    "    )"
   ]
  },
  {
   "cell_type": "code",
   "execution_count": 56,
   "id": "4acf04b1-b94a-41a6-bae4-0227c43d5dce",
   "metadata": {
    "tags": []
   },
   "outputs": [
    {
     "data": {
      "text/plain": [
       "'Leave the dealership immediately, this is a scam!'"
      ]
     },
     "execution_count": 56,
     "metadata": {},
     "output_type": "execute_result"
    }
   ],
   "source": [
    "evaluate_car_price(2000)"
   ]
  },
  {
   "cell_type": "code",
   "execution_count": 12,
   "id": "2c97e0e4",
   "metadata": {},
   "outputs": [
    {
     "name": "stdout",
     "output_type": "stream",
     "text": [
      "Leave the dealership immediately, this is a rip off!\n",
      "Take the car and go celebrate, you can afford it!\n",
      "Leave the dealership immediately, this is a scam!\n"
     ]
    }
   ],
   "source": [
    "# =================================================-\n",
    "#### Slide 16: Functions in Python: calling a function  ####\n",
    "\n",
    "# Let's set the price of a car to $45,000.\n",
    "price = 45000\n",
    "action1 = evaluate_car_price(price)\n",
    "print(action1)\n",
    "\n",
    "# Let's set the price of a car to $32,000.\n",
    "price = 32000\n",
    "action2 = evaluate_car_price(price)\n",
    "print(action2)\n",
    "\n",
    "# Let's set the price of a car to $5,000.\n",
    "price = 5000\n",
    "action3 = evaluate_car_price(price)\n",
    "print(action3)"
   ]
  },
  {
   "cell_type": "code",
   "execution_count": 13,
   "id": "839604cb-e16b-4693-a331-a6bbbf2de97b",
   "metadata": {},
   "outputs": [],
   "source": [
    "def snake_case():\n",
    "    pass\n",
    "\n",
    "\n",
    "class CamelCase:\n",
    "    def snake_case(self):\n",
    "        pass\n",
    "\n",
    "\n",
    "snake_case()\n",
    "\n",
    "cc = CamelCase()\n",
    "cc.snake_case()"
   ]
  },
  {
   "cell_type": "code",
   "execution_count": 58,
   "id": "1433aa85-7b94-4e2d-a0f7-8974517903d0",
   "metadata": {
    "tags": []
   },
   "outputs": [],
   "source": [
    "# =================================================-\n",
    "#### Slide 19: Functions that return two or more values (cont'd)  ####\n",
    "\n",
    "# Let's define a dictionary with sales data.\n",
    "year_sales = {\n",
    "    \"January\": 1045,\n",
    "    \"February\": 1008,\n",
    "    \"March\": 1025,\n",
    "    \"April\": 1080,\n",
    "    \"May\": 1100,\n",
    "    \"June\": 1050,\n",
    "    \"July\": 1050,\n",
    "    \"August\": 950,\n",
    "    \"September\": 1010,\n",
    "    \"October\": 1500,\n",
    "    \"November\": 1450,\n",
    "    \"December\": 1380,\n",
    "}"
   ]
  },
  {
   "cell_type": "code",
   "execution_count": 59,
   "id": "242f171a-8748-468b-8a89-8e21fce6f764",
   "metadata": {},
   "outputs": [
    {
     "name": "stdout",
     "output_type": "stream",
     "text": [
      "Best month: October\n",
      "Best amount: 1500\n"
     ]
    }
   ],
   "source": [
    "# =================================================-\n",
    "#### Slide 17: Functions that return two or more values  ####\n",
    "\n",
    "\n",
    "def most_profitable_month(sales_data):\n",
    "    biggest_amt = 0\n",
    "    biggest_month = None\n",
    "\n",
    "    for month, amt in sales_data.items():\n",
    "        if amt >= biggest_amt:\n",
    "            biggest_amt = amt\n",
    "            biggest_month = month\n",
    "\n",
    "    return biggest_month, biggest_amt\n",
    "\n",
    "\n",
    "# Assign output of function to variables in correct order.\n",
    "best_sales_month, best_sales_amt = most_profitable_month(year_sales)\n",
    "print(\"Best month:\", best_sales_month)\n",
    "print(\"Best amount:\", best_sales_amt)"
   ]
  },
  {
   "cell_type": "code",
   "execution_count": 63,
   "id": "57839a68-1bb7-4948-b887-b8d3cce0ea19",
   "metadata": {
    "tags": []
   },
   "outputs": [],
   "source": [
    "def most_profitable_month(d):\n",
    "    top_month = max(d, key=d.get)\n",
    "    return top_month, d[top_month]"
   ]
  },
  {
   "cell_type": "code",
   "execution_count": 64,
   "id": "2e3113ab-c7bd-47b6-850c-71b022dacc60",
   "metadata": {
    "tags": []
   },
   "outputs": [
    {
     "name": "stdout",
     "output_type": "stream",
     "text": [
      "Best month: October\n",
      "Best amount: 1500\n"
     ]
    }
   ],
   "source": [
    "best_sales_month, best_sales_amt = most_profitable_month(year_sales)\n",
    "print(\"Best month:\", best_sales_month)\n",
    "print(\"Best amount:\", best_sales_amt)"
   ]
  },
  {
   "cell_type": "code",
   "execution_count": 67,
   "id": "c8ecbd29-9505-4f79-b248-c8e322de2ad5",
   "metadata": {
    "tags": []
   },
   "outputs": [
    {
     "data": {
      "text/plain": [
       "dict_items([('January', 1045), ('February', 1008), ('March', 1025), ('April', 1080), ('May', 1100), ('June', 1050), ('July', 1050), ('August', 950), ('September', 1010), ('October', 1500), ('November', 1450), ('December', 1380)])"
      ]
     },
     "execution_count": 67,
     "metadata": {},
     "output_type": "execute_result"
    }
   ],
   "source": [
    "year_sales.items()"
   ]
  },
  {
   "cell_type": "code",
   "execution_count": 18,
   "id": "a0ed142d-3651-4c0e-b6ee-db8ea67f79c7",
   "metadata": {
    "tags": []
   },
   "outputs": [],
   "source": [
    "def most_profitable_month(d):\n",
    "    return max(d.items(), key=lambda x: x[1])"
   ]
  },
  {
   "cell_type": "code",
   "execution_count": 68,
   "id": "7a037aeb-0e41-434e-b820-844b7508bedc",
   "metadata": {
    "tags": []
   },
   "outputs": [],
   "source": [
    "def least_profitable_month(d):\n",
    "    return min(d.items(), key=lambda x: x[1])"
   ]
  },
  {
   "cell_type": "code",
   "execution_count": 69,
   "id": "ad88d4f2-4c34-4a58-bb59-6f07bde75005",
   "metadata": {
    "tags": []
   },
   "outputs": [
    {
     "data": {
      "text/plain": [
       "('August', 950)"
      ]
     },
     "execution_count": 69,
     "metadata": {},
     "output_type": "execute_result"
    }
   ],
   "source": [
    "least_profitable_month(year_sales)"
   ]
  },
  {
   "cell_type": "code",
   "execution_count": 19,
   "id": "2ba5f3be-57ae-4601-8bf5-a25fca1d8466",
   "metadata": {
    "tags": []
   },
   "outputs": [
    {
     "data": {
      "text/plain": [
       "('October', 1500)"
      ]
     },
     "execution_count": 19,
     "metadata": {},
     "output_type": "execute_result"
    }
   ],
   "source": [
    "most_profitable_month(year_sales)"
   ]
  },
  {
   "cell_type": "code",
   "execution_count": 108,
   "id": "eaafefb3-021d-4bda-9376-87240540e0c9",
   "metadata": {
    "tags": []
   },
   "outputs": [
    {
     "data": {
      "text/plain": [
       "('April', 1080)"
      ]
     },
     "execution_count": 108,
     "metadata": {},
     "output_type": "execute_result"
    }
   ],
   "source": [
    "min(year_sales.items())"
   ]
  },
  {
   "cell_type": "code",
   "execution_count": 94,
   "id": "5d3b44c8-b2c2-401c-bf72-14dd504e9f0a",
   "metadata": {
    "tags": []
   },
   "outputs": [],
   "source": [
    "def rank_months(d, descending=True, n=3):\n",
    "    return sorted(d.items(), key=lambda x: x[1], reverse=descending)[:n]"
   ]
  },
  {
   "cell_type": "code",
   "execution_count": 110,
   "id": "0472ea7b-15b1-40cd-9099-ae9e6db72659",
   "metadata": {
    "tags": []
   },
   "outputs": [],
   "source": [
    "def increment(x):\n",
    "    return x + 1"
   ]
  },
  {
   "cell_type": "code",
   "execution_count": 157,
   "id": "09e90755-4bff-439f-a3f2-4b94546dd3f9",
   "metadata": {
    "tags": []
   },
   "outputs": [],
   "source": [
    "increment = lambda x: (x, x + 1)"
   ]
  },
  {
   "cell_type": "code",
   "execution_count": 158,
   "id": "d6f94fd3-8ffd-4189-8542-ad88684cc751",
   "metadata": {
    "tags": []
   },
   "outputs": [
    {
     "data": {
      "text/plain": [
       "(3, 4)"
      ]
     },
     "execution_count": 158,
     "metadata": {},
     "output_type": "execute_result"
    }
   ],
   "source": [
    "increment(3)"
   ]
  },
  {
   "cell_type": "code",
   "execution_count": null,
   "id": "b4f2b206-995b-4242-a62a-b92d77ea7900",
   "metadata": {},
   "outputs": [],
   "source": [
    "months = {\n",
    "}"
   ]
  },
  {
   "cell_type": "code",
   "execution_count": 113,
   "id": "a3173a71-7742-46f9-9c25-c6127384c4e7",
   "metadata": {
    "tags": []
   },
   "outputs": [
    {
     "data": {
      "text/plain": [
       "7"
      ]
     },
     "execution_count": 113,
     "metadata": {},
     "output_type": "execute_result"
    }
   ],
   "source": [
    "len(rank_months(year_sales, True, -5))"
   ]
  },
  {
   "cell_type": "code",
   "execution_count": 103,
   "id": "fb7d34f9-e212-4beb-9ff4-177980145f4a",
   "metadata": {
    "tags": []
   },
   "outputs": [],
   "source": [
    "def myget(x):\n",
    "    return x[1]"
   ]
  },
  {
   "cell_type": "code",
   "execution_count": 104,
   "id": "47d42778-e99b-43fb-8a84-0ce7547d2c3c",
   "metadata": {
    "tags": []
   },
   "outputs": [
    {
     "data": {
      "text/plain": [
       "'myget'"
      ]
     },
     "execution_count": 104,
     "metadata": {},
     "output_type": "execute_result"
    }
   ],
   "source": [
    "myget.__name__"
   ]
  },
  {
   "cell_type": "code",
   "execution_count": 100,
   "id": "c63d84bc-5526-4ef8-80bc-6ca5977547fb",
   "metadata": {
    "tags": []
   },
   "outputs": [],
   "source": [
    "myget = lambda x: x[1]"
   ]
  },
  {
   "cell_type": "code",
   "execution_count": 102,
   "id": "5015023d-91fb-4a5b-962b-65ee865f1337",
   "metadata": {
    "tags": []
   },
   "outputs": [
    {
     "data": {
      "text/plain": [
       "'<lambda>'"
      ]
     },
     "execution_count": 102,
     "metadata": {},
     "output_type": "execute_result"
    }
   ],
   "source": [
    "myget.__name__"
   ]
  },
  {
   "cell_type": "code",
   "execution_count": 159,
   "id": "ab39aa34-ac2f-4c4e-a029-d8b8c4d8173a",
   "metadata": {
    "tags": []
   },
   "outputs": [
    {
     "data": {
      "text/plain": [
       "dict_keys(['January', 'February', 'March', 'April', 'May', 'June', 'July', 'August', 'September', 'October', 'November', 'December'])"
      ]
     },
     "execution_count": 159,
     "metadata": {},
     "output_type": "execute_result"
    }
   ],
   "source": [
    "year_sales.keys()"
   ]
  },
  {
   "cell_type": "code",
   "execution_count": 20,
   "id": "d14bfdf7-692a-4693-877a-bf19323d4c4a",
   "metadata": {
    "tags": []
   },
   "outputs": [],
   "source": [
    "def most_profitable_months(d, n=3):\n",
    "    return sorted(d.items(), key=lambda x: x[1], reverse=True)[:n]"
   ]
  },
  {
   "cell_type": "code",
   "execution_count": 21,
   "id": "dd56103a-5080-4dcc-844c-906f914264b0",
   "metadata": {
    "tags": []
   },
   "outputs": [
    {
     "data": {
      "text/plain": [
       "[('October', 1500), ('November', 1450), ('December', 1380)]"
      ]
     },
     "execution_count": 21,
     "metadata": {},
     "output_type": "execute_result"
    }
   ],
   "source": [
    "most_profitable_months(year_sales)"
   ]
  },
  {
   "cell_type": "code",
   "execution_count": 22,
   "id": "0ca41fad-41a7-48d4-b4e9-63ad670789d9",
   "metadata": {},
   "outputs": [
    {
     "name": "stdout",
     "output_type": "stream",
     "text": [
      "Best month: October\n",
      "Best amount: 1500\n",
      "Best month: October\n",
      "Best amount: 1500\n",
      "Best month: October\n",
      "Best amount: 1500\n",
      "Best month: October\n",
      "Best amount: 1500\n"
     ]
    }
   ],
   "source": [
    "tm = sorted(year_sales, key=year_sales.get, reverse=True)[0]\n",
    "tv = year_sales.get(tm)\n",
    "print(\"Best month:\", tm)\n",
    "print(\"Best amount:\", tv)\n",
    "\n",
    "tm = max(year_sales, key=year_sales.get)\n",
    "tv = year_sales.get(tm)\n",
    "print(\"Best month:\", tm)\n",
    "print(\"Best amount:\", tv)\n",
    "\n",
    "tm, tv = sorted(year_sales.items(), key=lambda x: x[1], reverse=True)[0]\n",
    "print(\"Best month:\", tm)\n",
    "print(\"Best amount:\", tv)\n",
    "\n",
    "tm, tv = max(year_sales.items(), key=lambda x: x[1])\n",
    "print(\"Best month:\", tm)\n",
    "print(\"Best amount:\", tv)"
   ]
  },
  {
   "cell_type": "code",
   "execution_count": 23,
   "id": "ada57d95",
   "metadata": {},
   "outputs": [
    {
     "name": "stdout",
     "output_type": "stream",
     "text": [
      "[6, 7, 8]\n"
     ]
    }
   ],
   "source": [
    "# =================================================-\n",
    "#### Slide 20: Passing a list as an argument  ####\n",
    "\n",
    "\n",
    "# Define a function that returns the length of all character strings in a list.\n",
    "def calculate_lengths(list_of_strings):\n",
    "    # Define an empty list to store the result.\n",
    "    lengths = []\n",
    "    # Use a for loop to access items in the input list.\n",
    "    for item in list_of_strings:\n",
    "        lengths.append(len(item))\n",
    "\n",
    "    return lengths\n",
    "\n",
    "\n",
    "result = calculate_lengths([\"Monday\", \"Tuesday\", \"Saturday\"])\n",
    "print(result)"
   ]
  },
  {
   "cell_type": "code",
   "execution_count": 24,
   "id": "87a72d2f-d8c3-4343-a098-19718fc9607b",
   "metadata": {},
   "outputs": [
    {
     "name": "stdout",
     "output_type": "stream",
     "text": [
      "[6, 7, 8]\n"
     ]
    }
   ],
   "source": [
    "result = [len(x) for x in [\"Monday\", \"Tuesday\", \"Saturday\"]]\n",
    "print(result)"
   ]
  },
  {
   "cell_type": "code",
   "execution_count": 25,
   "id": "24688e01-ea1e-4187-82d2-66f78a25c2d4",
   "metadata": {},
   "outputs": [
    {
     "name": "stdout",
     "output_type": "stream",
     "text": [
      "<map object at 0x1143a8850>\n"
     ]
    }
   ],
   "source": [
    "result = map(len, [\"Monday\", \"Tuesday\", \"Saturday\"])\n",
    "print(result)"
   ]
  },
  {
   "cell_type": "code",
   "execution_count": 26,
   "id": "d9b49c3c",
   "metadata": {},
   "outputs": [],
   "source": [
    "# =================================================-\n",
    "#### Slide 21: Functions that have default arguments  ####\n",
    "\n",
    "\n",
    "def most_profitable_month(sales_data, verbose=True):\n",
    "    biggest_amt = 0\n",
    "    biggest_month = None\n",
    "\n",
    "    for month, amt in sales_data.items():\n",
    "        if amt >= biggest_amt:\n",
    "            biggest_amt = amt\n",
    "            biggest_month = month\n",
    "\n",
    "    if verbose:\n",
    "        print(\n",
    "            \"The best sales month was\",\n",
    "            biggest_month,\n",
    "            \"with amount sold equal to\",\n",
    "            biggest_amt,\n",
    "        )\n",
    "\n",
    "    return (biggest_month, biggest_amt)"
   ]
  },
  {
   "cell_type": "code",
   "execution_count": 27,
   "id": "09f363f5",
   "metadata": {},
   "outputs": [
    {
     "name": "stdout",
     "output_type": "stream",
     "text": [
      "The best sales month was October with amount sold equal to 1500\n",
      "Best month: October Best amount: 1500\n"
     ]
    }
   ],
   "source": [
    "# =================================================-\n",
    "#### Slide 22: Functions that have default arguments (cont'd)  ####\n",
    "\n",
    "# Assign output of function to variables in correct order.\n",
    "best_sales_month, best_sales_amt = most_profitable_month(year_sales)\n",
    "# Assign output of function to variables in correct order.\n",
    "best_sales_month, best_sales_amt = most_profitable_month(year_sales, False)\n",
    "print(\"Best month:\", best_sales_month, \"Best amount:\", best_sales_amt)"
   ]
  },
  {
   "cell_type": "code",
   "execution_count": 117,
   "id": "8dd9bfa8-fec3-47f9-87e7-5f59a94833b1",
   "metadata": {
    "tags": []
   },
   "outputs": [],
   "source": [
    "months = [\n",
    "    \"January\",\n",
    "    \"February\",\n",
    "    \"March\",\n",
    "    \"April\",\n",
    "    \"May\",\n",
    "    \"June\",\n",
    "    \"July\",\n",
    "    \"August\",\n",
    "    \"September\",\n",
    "    \"October\",\n",
    "    \"November\",\n",
    "    \"December\",\n",
    "]"
   ]
  },
  {
   "cell_type": "code",
   "execution_count": 121,
   "id": "62012f6a-eee1-4fa1-a4b8-32a2e890c40e",
   "metadata": {
    "tags": []
   },
   "outputs": [
    {
     "data": {
      "text/plain": [
       "{0: 'January',\n",
       " 1: 'February',\n",
       " 2: 'March',\n",
       " 3: 'April',\n",
       " 4: 'May',\n",
       " 5: 'June',\n",
       " 6: 'July',\n",
       " 7: 'August',\n",
       " 8: 'September',\n",
       " 9: 'October',\n",
       " 10: 'November',\n",
       " 11: 'December'}"
      ]
     },
     "execution_count": 121,
     "metadata": {},
     "output_type": "execute_result"
    }
   ],
   "source": [
    "dict(enumerate(months))"
   ]
  },
  {
   "cell_type": "code",
   "execution_count": 128,
   "id": "e13714e5-b050-479b-b61a-6d169bd209f7",
   "metadata": {
    "tags": []
   },
   "outputs": [],
   "source": [
    "month_dict = {v: k + 1 for k, v in enumerate(months)}"
   ]
  },
  {
   "cell_type": "code",
   "execution_count": 129,
   "id": "a8876914-0db8-471c-a756-33dbf54d48b3",
   "metadata": {
    "tags": []
   },
   "outputs": [
    {
     "data": {
      "text/plain": [
       "{'January': 1,\n",
       " 'February': 2,\n",
       " 'March': 3,\n",
       " 'April': 4,\n",
       " 'May': 5,\n",
       " 'June': 6,\n",
       " 'July': 7,\n",
       " 'August': 8,\n",
       " 'September': 9,\n",
       " 'October': 10,\n",
       " 'November': 11,\n",
       " 'December': 12}"
      ]
     },
     "execution_count": 129,
     "metadata": {},
     "output_type": "execute_result"
    }
   ],
   "source": [
    "month_dict"
   ]
  },
  {
   "cell_type": "code",
   "execution_count": 132,
   "id": "eaec1be2-0c6e-45ee-bdeb-67a47e496574",
   "metadata": {
    "tags": []
   },
   "outputs": [],
   "source": [
    "from datetime import datetime"
   ]
  },
  {
   "cell_type": "code",
   "execution_count": 138,
   "id": "3aa2348f-9d3b-4cfb-ac6e-f532a3845441",
   "metadata": {
    "tags": []
   },
   "outputs": [
    {
     "data": {
      "text/plain": [
       "True"
      ]
     },
     "execution_count": 138,
     "metadata": {},
     "output_type": "execute_result"
    }
   ],
   "source": [
    "datetime(2023, 3, 1) > datetime(2023, 2, 1)"
   ]
  },
  {
   "cell_type": "code",
   "execution_count": 140,
   "id": "9251fa80-2a1a-463a-a547-4ef03de056fd",
   "metadata": {
    "tags": []
   },
   "outputs": [
    {
     "data": {
      "text/plain": [
       "{'January': 1045,\n",
       " 'February': 1008,\n",
       " 'March': 1025,\n",
       " 'April': 1080,\n",
       " 'May': 1100,\n",
       " 'June': 1050,\n",
       " 'July': 1050,\n",
       " 'August': 950,\n",
       " 'September': 1010,\n",
       " 'October': 1500,\n",
       " 'November': 1450,\n",
       " 'December': 1380}"
      ]
     },
     "execution_count": 140,
     "metadata": {},
     "output_type": "execute_result"
    }
   ],
   "source": [
    "year_sales"
   ]
  },
  {
   "cell_type": "code",
   "execution_count": 139,
   "id": "0e0c6c01-69ae-4cbd-a58f-f1d39da9ad52",
   "metadata": {
    "tags": []
   },
   "outputs": [
    {
     "data": {
      "text/plain": [
       "{datetime.datetime(2023, 1, 1, 0, 0): 1045}"
      ]
     },
     "execution_count": 139,
     "metadata": {},
     "output_type": "execute_result"
    }
   ],
   "source": [
    "{datetime(2023, 1, 1): 1045}"
   ]
  },
  {
   "cell_type": "code",
   "execution_count": 152,
   "id": "94c6b152-64b1-4318-8a3f-8e09d673a9dd",
   "metadata": {
    "tags": []
   },
   "outputs": [],
   "source": [
    "dt_sales = {\n",
    "    datetime(2023, 1, 1): 1045,\n",
    "    datetime(2023, 3, 1): 1025,\n",
    "    datetime(2023, 5, 1): 1100,\n",
    "    datetime(2023, 4, 1): 1080,\n",
    "    datetime(2023, 7, 1): 1050,\n",
    "    datetime(2023, 6, 1): 1050,\n",
    "    datetime(2023, 8, 1): 950,\n",
    "    datetime(2023, 10, 1): 1500,\n",
    "    datetime(2023, 9, 1): 1010,\n",
    "    datetime(2023, 12, 1): 1380,\n",
    "    datetime(2023, 11, 1): 1450,\n",
    "    datetime(2023, 11, 1): 2450,\n",
    "    datetime(2023, 11, 1): 3450,\n",
    "    datetime(2023, 2, 1): 1008,\n",
    "}\n"
   ]
  },
  {
   "cell_type": "code",
   "execution_count": 153,
   "id": "f1e67f32-d532-453f-b0be-a8528e7790a0",
   "metadata": {
    "tags": []
   },
   "outputs": [
    {
     "data": {
      "text/plain": [
       "[(datetime.datetime(2023, 1, 1, 0, 0), 1045),\n",
       " (datetime.datetime(2023, 2, 1, 0, 0), 1008),\n",
       " (datetime.datetime(2023, 3, 1, 0, 0), 1025),\n",
       " (datetime.datetime(2023, 4, 1, 0, 0), 1080),\n",
       " (datetime.datetime(2023, 5, 1, 0, 0), 1100),\n",
       " (datetime.datetime(2023, 6, 1, 0, 0), 1050),\n",
       " (datetime.datetime(2023, 7, 1, 0, 0), 1050),\n",
       " (datetime.datetime(2023, 8, 1, 0, 0), 950),\n",
       " (datetime.datetime(2023, 9, 1, 0, 0), 1010),\n",
       " (datetime.datetime(2023, 10, 1, 0, 0), 1500),\n",
       " (datetime.datetime(2023, 11, 1, 0, 0), 3450),\n",
       " (datetime.datetime(2023, 12, 1, 0, 0), 1380)]"
      ]
     },
     "execution_count": 153,
     "metadata": {},
     "output_type": "execute_result"
    }
   ],
   "source": [
    "sorted(dt_sales.items())"
   ]
  },
  {
   "cell_type": "code",
   "execution_count": 131,
   "id": "785a36df-f0aa-4c29-b0d9-8fc046fd1956",
   "metadata": {
    "tags": []
   },
   "outputs": [
    {
     "data": {
      "text/plain": [
       "[('January', 1045),\n",
       " ('February', 1008),\n",
       " ('March', 1025),\n",
       " ('April', 1080),\n",
       " ('May', 1100),\n",
       " ('June', 1050),\n",
       " ('July', 1050),\n",
       " ('August', 950),\n",
       " ('September', 1010),\n",
       " ('October', 1500),\n",
       " ('November', 1450),\n",
       " ('December', 1380)]"
      ]
     },
     "execution_count": 131,
     "metadata": {},
     "output_type": "execute_result"
    }
   ],
   "source": [
    "sorted(year_sales.items(), key=lambda x: month_dict[x[0]])"
   ]
  },
  {
   "cell_type": "code",
   "execution_count": 28,
   "id": "9be646d6",
   "metadata": {},
   "outputs": [
    {
     "name": "stdout",
     "output_type": "stream",
     "text": [
      "Remember the 5th of November!\n"
     ]
    }
   ],
   "source": [
    "# =================================================-\n",
    "#### Slide 24: Anonymous functions: syntax  ####\n",
    "\n",
    "print((lambda v: v + \" the 5th of November!\")(\"Remember\"))"
   ]
  },
  {
   "cell_type": "code",
   "execution_count": 29,
   "id": "e44ac013",
   "metadata": {},
   "outputs": [
    {
     "name": "stdout",
     "output_type": "stream",
     "text": [
      "Remember the 5th of November!\n",
      "-222\n"
     ]
    }
   ],
   "source": [
    "# =================================================-\n",
    "#### Slide 25: Anonymous functions with multiple arguments  ####\n",
    "\n",
    "remember = lambda v: v + \" the 5th of November!\"\n",
    "print(remember(\"Remember\"))\n",
    "y = lambda a, b: a + b\n",
    "print(y(765, -987))"
   ]
  },
  {
   "cell_type": "code",
   "execution_count": 30,
   "id": "37542c37-cf13-4c8c-92ee-7b83879d7159",
   "metadata": {},
   "outputs": [
    {
     "data": {
      "text/plain": [
       "6"
      ]
     },
     "execution_count": 30,
     "metadata": {},
     "output_type": "execute_result"
    }
   ],
   "source": [
    "sum([1, 2, 3])"
   ]
  },
  {
   "cell_type": "code",
   "execution_count": 31,
   "id": "82586085-b0c8-4d47-ad73-0ac03e978f60",
   "metadata": {},
   "outputs": [],
   "source": [
    "def my_sum(*args):\n",
    "    return sum(args)"
   ]
  },
  {
   "cell_type": "code",
   "execution_count": 32,
   "id": "91485a19-3f34-4410-9e60-291ad4ef8f7f",
   "metadata": {},
   "outputs": [
    {
     "data": {
      "text/plain": [
       "15"
      ]
     },
     "execution_count": 32,
     "metadata": {},
     "output_type": "execute_result"
    }
   ],
   "source": [
    "my_sum(1, 2, 3, 4, 5)"
   ]
  },
  {
   "cell_type": "code",
   "execution_count": 33,
   "id": "05b0b00e-7a95-4612-b250-56e476d30298",
   "metadata": {},
   "outputs": [
    {
     "data": {
      "text/plain": [
       "6"
      ]
     },
     "execution_count": 33,
     "metadata": {},
     "output_type": "execute_result"
    }
   ],
   "source": [
    "my_sum(*[1, 2, 3])"
   ]
  },
  {
   "cell_type": "code",
   "execution_count": 34,
   "id": "3da33be1",
   "metadata": {},
   "outputs": [
    {
     "name": "stdout",
     "output_type": "stream",
     "text": [
      "22 :  Even | 41 :  Odd | 16 :  Even | 13 :  Odd | "
     ]
    }
   ],
   "source": [
    "# =================================================-\n",
    "#### Slide 26: Function within another function  ####\n",
    "\n",
    "\n",
    "# Define a function to check if a number is even or odd.\n",
    "def even_odd(num):\n",
    "    if num % 2 == 0:  # <- % is the Modulo operator.\n",
    "        result = \"Even\"\n",
    "    else:\n",
    "        result = \"Odd\"\n",
    "    return result\n",
    "\n",
    "\n",
    "# Define a function to print if each element of a list is even or odd.\n",
    "def even_odd_list(numbers):\n",
    "    for num in numbers:\n",
    "        result = even_odd(num)  # <- Call function on num an assign its result\n",
    "        print(num, \": \", result, end=\" | \")\n",
    "\n",
    "\n",
    "even_odd_list([22, 41, 16, 13])"
   ]
  },
  {
   "cell_type": "code",
   "execution_count": 160,
   "id": "f67ff00c-6290-4026-9723-5e135953d30d",
   "metadata": {},
   "outputs": [
    {
     "data": {
      "text/plain": [
       "{22: 'Even', 41: 'Odd', 16: 'Even', 13: 'Odd'}"
      ]
     },
     "execution_count": 160,
     "metadata": {},
     "output_type": "execute_result"
    }
   ],
   "source": [
    "numbers = [22, 41, 16, 13]\n",
    "{num: \"Odd\" if num % 2 else \"Even\" for num in numbers}"
   ]
  },
  {
   "cell_type": "code",
   "execution_count": 161,
   "id": "548950af-8335-41fe-a191-bb68ad0a608e",
   "metadata": {
    "collapsed": true,
    "jupyter": {
     "outputs_hidden": true
    },
    "tags": []
   },
   "outputs": [
    {
     "data": {
      "text/plain": [
       "{0: 'Even',\n",
       " 1: 'Odd',\n",
       " 2: 'Even',\n",
       " 3: 'Odd',\n",
       " 4: 'Even',\n",
       " 5: 'Odd',\n",
       " 6: 'Even',\n",
       " 7: 'Odd',\n",
       " 8: 'Even',\n",
       " 9: 'Odd',\n",
       " 10: 'Even',\n",
       " 11: 'Odd',\n",
       " 12: 'Even',\n",
       " 13: 'Odd',\n",
       " 14: 'Even',\n",
       " 15: 'Odd',\n",
       " 16: 'Even',\n",
       " 17: 'Odd',\n",
       " 18: 'Even',\n",
       " 19: 'Odd',\n",
       " 20: 'Even',\n",
       " 21: 'Odd',\n",
       " 22: 'Even',\n",
       " 23: 'Odd',\n",
       " 24: 'Even',\n",
       " 25: 'Odd',\n",
       " 26: 'Even',\n",
       " 27: 'Odd',\n",
       " 28: 'Even',\n",
       " 29: 'Odd',\n",
       " 30: 'Even',\n",
       " 31: 'Odd',\n",
       " 32: 'Even',\n",
       " 33: 'Odd',\n",
       " 34: 'Even',\n",
       " 35: 'Odd',\n",
       " 36: 'Even',\n",
       " 37: 'Odd',\n",
       " 38: 'Even',\n",
       " 39: 'Odd',\n",
       " 40: 'Even',\n",
       " 41: 'Odd',\n",
       " 42: 'Even',\n",
       " 43: 'Odd',\n",
       " 44: 'Even',\n",
       " 45: 'Odd',\n",
       " 46: 'Even',\n",
       " 47: 'Odd',\n",
       " 48: 'Even',\n",
       " 49: 'Odd',\n",
       " 50: 'Even',\n",
       " 51: 'Odd',\n",
       " 52: 'Even',\n",
       " 53: 'Odd',\n",
       " 54: 'Even',\n",
       " 55: 'Odd',\n",
       " 56: 'Even',\n",
       " 57: 'Odd',\n",
       " 58: 'Even',\n",
       " 59: 'Odd',\n",
       " 60: 'Even',\n",
       " 61: 'Odd',\n",
       " 62: 'Even',\n",
       " 63: 'Odd',\n",
       " 64: 'Even',\n",
       " 65: 'Odd',\n",
       " 66: 'Even',\n",
       " 67: 'Odd',\n",
       " 68: 'Even',\n",
       " 69: 'Odd',\n",
       " 70: 'Even',\n",
       " 71: 'Odd',\n",
       " 72: 'Even',\n",
       " 73: 'Odd',\n",
       " 74: 'Even',\n",
       " 75: 'Odd',\n",
       " 76: 'Even',\n",
       " 77: 'Odd',\n",
       " 78: 'Even',\n",
       " 79: 'Odd',\n",
       " 80: 'Even',\n",
       " 81: 'Odd',\n",
       " 82: 'Even',\n",
       " 83: 'Odd',\n",
       " 84: 'Even',\n",
       " 85: 'Odd',\n",
       " 86: 'Even',\n",
       " 87: 'Odd',\n",
       " 88: 'Even',\n",
       " 89: 'Odd',\n",
       " 90: 'Even',\n",
       " 91: 'Odd',\n",
       " 92: 'Even',\n",
       " 93: 'Odd',\n",
       " 94: 'Even',\n",
       " 95: 'Odd',\n",
       " 96: 'Even',\n",
       " 97: 'Odd',\n",
       " 98: 'Even'}"
      ]
     },
     "execution_count": 161,
     "metadata": {},
     "output_type": "execute_result"
    }
   ],
   "source": [
    "numbers = range(99)\n",
    "{num: \"Odd\" if num % 2 else \"Even\" for num in numbers}"
   ]
  },
  {
   "cell_type": "code",
   "execution_count": 37,
   "id": "71e92eb5-aeb5-4ea9-ab12-a302f9f35511",
   "metadata": {},
   "outputs": [],
   "source": [
    "def fizzbuzz(x):\n",
    "    result = \"fizz\" * (x % 3 == 0) + \"buzz\" * (x % 5 == 0)\n",
    "    return result if result else str(x)"
   ]
  },
  {
   "cell_type": "code",
   "execution_count": 38,
   "id": "96f1ddaa-83ee-4450-8cb6-b537791af41a",
   "metadata": {
    "collapsed": true,
    "jupyter": {
     "outputs_hidden": true
    },
    "tags": []
   },
   "outputs": [
    {
     "data": {
      "text/plain": [
       "['1',\n",
       " '2',\n",
       " 'fizz',\n",
       " '4',\n",
       " 'buzz',\n",
       " 'fizz',\n",
       " '7',\n",
       " '8',\n",
       " 'fizz',\n",
       " 'buzz',\n",
       " '11',\n",
       " 'fizz',\n",
       " '13',\n",
       " '14',\n",
       " 'fizzbuzz',\n",
       " '16',\n",
       " '17',\n",
       " 'fizz',\n",
       " '19',\n",
       " 'buzz',\n",
       " 'fizz',\n",
       " '22',\n",
       " '23',\n",
       " 'fizz',\n",
       " 'buzz',\n",
       " '26',\n",
       " 'fizz',\n",
       " '28',\n",
       " '29',\n",
       " 'fizzbuzz',\n",
       " '31',\n",
       " '32',\n",
       " 'fizz',\n",
       " '34',\n",
       " 'buzz',\n",
       " 'fizz',\n",
       " '37',\n",
       " '38',\n",
       " 'fizz',\n",
       " 'buzz',\n",
       " '41',\n",
       " 'fizz',\n",
       " '43',\n",
       " '44',\n",
       " 'fizzbuzz',\n",
       " '46',\n",
       " '47',\n",
       " 'fizz',\n",
       " '49',\n",
       " 'buzz',\n",
       " 'fizz',\n",
       " '52',\n",
       " '53',\n",
       " 'fizz',\n",
       " 'buzz',\n",
       " '56',\n",
       " 'fizz',\n",
       " '58',\n",
       " '59',\n",
       " 'fizzbuzz',\n",
       " '61',\n",
       " '62',\n",
       " 'fizz',\n",
       " '64',\n",
       " 'buzz',\n",
       " 'fizz',\n",
       " '67',\n",
       " '68',\n",
       " 'fizz',\n",
       " 'buzz',\n",
       " '71',\n",
       " 'fizz',\n",
       " '73',\n",
       " '74',\n",
       " 'fizzbuzz',\n",
       " '76',\n",
       " '77',\n",
       " 'fizz',\n",
       " '79',\n",
       " 'buzz',\n",
       " 'fizz',\n",
       " '82',\n",
       " '83',\n",
       " 'fizz',\n",
       " 'buzz',\n",
       " '86',\n",
       " 'fizz',\n",
       " '88',\n",
       " '89',\n",
       " 'fizzbuzz',\n",
       " '91',\n",
       " '92',\n",
       " 'fizz',\n",
       " '94',\n",
       " 'buzz',\n",
       " 'fizz',\n",
       " '97',\n",
       " '98']"
      ]
     },
     "execution_count": 38,
     "metadata": {},
     "output_type": "execute_result"
    }
   ],
   "source": [
    "[\n",
    "    result if (result := \"fizz\" * (x % 3 == 0) + \"buzz\" * (x % 5 == 0)) else str(x)\n",
    "    for x in numbers\n",
    "    if x\n",
    "]"
   ]
  },
  {
   "cell_type": "code",
   "execution_count": 39,
   "id": "39db790a-29be-459c-85bc-4573e1ef478b",
   "metadata": {
    "collapsed": true,
    "jupyter": {
     "outputs_hidden": true
    },
    "tags": []
   },
   "outputs": [
    {
     "data": {
      "text/plain": [
       "['1',\n",
       " '2',\n",
       " 'fizz',\n",
       " '4',\n",
       " 'buzz',\n",
       " 'fizz',\n",
       " '7',\n",
       " '8',\n",
       " 'fizz',\n",
       " 'buzz',\n",
       " '11',\n",
       " 'fizz',\n",
       " '13',\n",
       " '14',\n",
       " 'fizzbuzz',\n",
       " '16',\n",
       " '17',\n",
       " 'fizz',\n",
       " '19',\n",
       " 'buzz',\n",
       " 'fizz',\n",
       " '22',\n",
       " '23',\n",
       " 'fizz',\n",
       " 'buzz',\n",
       " '26',\n",
       " 'fizz',\n",
       " '28',\n",
       " '29',\n",
       " 'fizzbuzz',\n",
       " '31',\n",
       " '32',\n",
       " 'fizz',\n",
       " '34',\n",
       " 'buzz',\n",
       " 'fizz',\n",
       " '37',\n",
       " '38',\n",
       " 'fizz',\n",
       " 'buzz',\n",
       " '41',\n",
       " 'fizz',\n",
       " '43',\n",
       " '44',\n",
       " 'fizzbuzz',\n",
       " '46',\n",
       " '47',\n",
       " 'fizz',\n",
       " '49',\n",
       " 'buzz',\n",
       " 'fizz',\n",
       " '52',\n",
       " '53',\n",
       " 'fizz',\n",
       " 'buzz',\n",
       " '56',\n",
       " 'fizz',\n",
       " '58',\n",
       " '59',\n",
       " 'fizzbuzz',\n",
       " '61',\n",
       " '62',\n",
       " 'fizz',\n",
       " '64',\n",
       " 'buzz',\n",
       " 'fizz',\n",
       " '67',\n",
       " '68',\n",
       " 'fizz',\n",
       " 'buzz',\n",
       " '71',\n",
       " 'fizz',\n",
       " '73',\n",
       " '74',\n",
       " 'fizzbuzz',\n",
       " '76',\n",
       " '77',\n",
       " 'fizz',\n",
       " '79',\n",
       " 'buzz',\n",
       " 'fizz',\n",
       " '82',\n",
       " '83',\n",
       " 'fizz',\n",
       " 'buzz',\n",
       " '86',\n",
       " 'fizz',\n",
       " '88',\n",
       " '89',\n",
       " 'fizzbuzz',\n",
       " '91',\n",
       " '92',\n",
       " 'fizz',\n",
       " '94',\n",
       " 'buzz',\n",
       " 'fizz',\n",
       " '97',\n",
       " '98']"
      ]
     },
     "execution_count": 39,
     "metadata": {},
     "output_type": "execute_result"
    }
   ],
   "source": [
    "[\n",
    "    result if (result := \"fizz\" * (not x % 3) + \"buzz\" * (not x % 5)) else str(x)\n",
    "    for x in numbers\n",
    "    if x\n",
    "]"
   ]
  },
  {
   "cell_type": "code",
   "execution_count": 40,
   "id": "9c28f909-bdfb-42f1-99af-8b89d4763232",
   "metadata": {},
   "outputs": [
    {
     "data": {
      "text/plain": [
       "1"
      ]
     },
     "execution_count": 40,
     "metadata": {},
     "output_type": "execute_result"
    }
   ],
   "source": [
    "1 or \"\""
   ]
  },
  {
   "cell_type": "markdown",
   "id": "87e549ce-f5e2-42eb-85d4-45cac8e10636",
   "metadata": {},
   "source": [
    "- or: gives LHS if truthy, else RHS"
   ]
  },
  {
   "cell_type": "code",
   "execution_count": 41,
   "id": "331d8c62-a40e-4dcc-9112-290305ddfee3",
   "metadata": {},
   "outputs": [],
   "source": [
    "def func():\n",
    "    pass"
   ]
  },
  {
   "cell_type": "code",
   "execution_count": 42,
   "id": "e4248efd-eff2-4e30-b861-4fe34b9f7bbd",
   "metadata": {},
   "outputs": [
    {
     "data": {
      "text/plain": [
       "<function __main__.<lambda>(x)>"
      ]
     },
     "execution_count": 42,
     "metadata": {},
     "output_type": "execute_result"
    }
   ],
   "source": [
    "lambda x: x"
   ]
  },
  {
   "cell_type": "code",
   "execution_count": 43,
   "id": "bffbd674-5d54-453f-ae3f-b7fd6404ffe2",
   "metadata": {},
   "outputs": [
    {
     "data": {
      "text/plain": [
       "4"
      ]
     },
     "execution_count": 43,
     "metadata": {},
     "output_type": "execute_result"
    }
   ],
   "source": [
    "x = 4\n",
    "x"
   ]
  },
  {
   "cell_type": "code",
   "execution_count": 44,
   "id": "daa17731-8b4a-423d-a910-75518f555f26",
   "metadata": {},
   "outputs": [],
   "source": [
    "if x:\n",
    "    ...\n",
    "else:\n",
    "    ..."
   ]
  },
  {
   "cell_type": "code",
   "execution_count": 45,
   "id": "e7f3e61a-ad62-4e33-9b75-37215c921cca",
   "metadata": {},
   "outputs": [
    {
     "data": {
      "text/plain": [
       "Ellipsis"
      ]
     },
     "execution_count": 45,
     "metadata": {},
     "output_type": "execute_result"
    }
   ],
   "source": [
    "... if x else ..."
   ]
  },
  {
   "cell_type": "code",
   "execution_count": 183,
   "id": "d1d94d45-778a-473e-9d3c-a7233414ba09",
   "metadata": {
    "tags": []
   },
   "outputs": [],
   "source": [
    "x = 15"
   ]
  },
  {
   "cell_type": "code",
   "execution_count": 184,
   "id": "aea969da-ca38-468b-b0ba-b346ce880e02",
   "metadata": {
    "tags": []
   },
   "outputs": [
    {
     "data": {
      "text/plain": [
       "'fizz'"
      ]
     },
     "execution_count": 184,
     "metadata": {},
     "output_type": "execute_result"
    }
   ],
   "source": [
    "\"fizz\" * (not x % 3)"
   ]
  },
  {
   "cell_type": "code",
   "execution_count": 185,
   "id": "7532f773-2dc3-4013-b054-791f8d1ff0c1",
   "metadata": {
    "tags": []
   },
   "outputs": [
    {
     "data": {
      "text/plain": [
       "'buzz'"
      ]
     },
     "execution_count": 185,
     "metadata": {},
     "output_type": "execute_result"
    }
   ],
   "source": [
    "\"buzz\" * (not x % 5)"
   ]
  },
  {
   "cell_type": "code",
   "execution_count": 187,
   "id": "bc127dd4-0afd-4e99-b512-9905ab19c0f6",
   "metadata": {
    "tags": []
   },
   "outputs": [
    {
     "data": {
      "text/plain": [
       "'15'"
      ]
     },
     "execution_count": 187,
     "metadata": {},
     "output_type": "execute_result"
    }
   ],
   "source": [
    "\"\" or str(x)"
   ]
  },
  {
   "cell_type": "code",
   "execution_count": null,
   "id": "ac241d6c-9ddc-47df-80c5-d443f947a7ff",
   "metadata": {},
   "outputs": [],
   "source": []
  },
  {
   "cell_type": "code",
   "execution_count": 163,
   "id": "66c31a3d-a19e-455e-a06a-b077a57104d9",
   "metadata": {},
   "outputs": [
    {
     "data": {
      "text/plain": [
       "['1',\n",
       " '2',\n",
       " 'fizz',\n",
       " '4',\n",
       " 'buzz',\n",
       " 'fizz',\n",
       " '7',\n",
       " '8',\n",
       " 'fizz',\n",
       " 'buzz',\n",
       " '11',\n",
       " 'fizz',\n",
       " '13',\n",
       " '14',\n",
       " 'fizzbuzz',\n",
       " '16',\n",
       " '17',\n",
       " 'fizz',\n",
       " '19']"
      ]
     },
     "execution_count": 163,
     "metadata": {},
     "output_type": "execute_result"
    }
   ],
   "source": [
    "[\n",
    "    \"fizz\" * (not x % 3)\n",
    "    + \"buzz\" * (not x % 5)\n",
    "    or str(x)\n",
    "    for x in range(20)\n",
    "    if x\n",
    "]"
   ]
  },
  {
   "cell_type": "code",
   "execution_count": 47,
   "id": "0d5b694b-a671-445f-8141-8f954537421c",
   "metadata": {
    "tags": []
   },
   "outputs": [],
   "source": [
    "def fizzbuzz(num):\n",
    "    return \"fizz\" * (not num % 3) + \"buzz\" * (not num % 5) or str(num) if num else str(num)"
   ]
  },
  {
   "cell_type": "code",
   "execution_count": 48,
   "id": "c89803e2-058a-4ce9-8de5-885da3712571",
   "metadata": {
    "tags": []
   },
   "outputs": [
    {
     "data": {
      "text/plain": [
       "['0',\n",
       " '1',\n",
       " '2',\n",
       " 'fizz',\n",
       " '4',\n",
       " 'buzz',\n",
       " 'fizz',\n",
       " '7',\n",
       " '8',\n",
       " 'fizz',\n",
       " 'buzz',\n",
       " '11',\n",
       " 'fizz',\n",
       " '13',\n",
       " '14',\n",
       " 'fizzbuzz']"
      ]
     },
     "execution_count": 48,
     "metadata": {},
     "output_type": "execute_result"
    }
   ],
   "source": [
    "[fizzbuzz(i) for i in range(16)]"
   ]
  },
  {
   "cell_type": "code",
   "execution_count": 49,
   "id": "f6e02350-0ab3-418e-83f5-23401c486d6e",
   "metadata": {
    "tags": []
   },
   "outputs": [],
   "source": [
    "def fizzbuzz(nums):\n",
    "        return [result if x and (result := \"fizz\" * (not x % 3) + \"buzz\" * (not x % 5)) else str(x) for x in nums]"
   ]
  },
  {
   "cell_type": "code",
   "execution_count": 50,
   "id": "bfc0bf9b-154d-472b-bc59-40101147e785",
   "metadata": {
    "tags": []
   },
   "outputs": [],
   "source": [
    "def fizzbuzz(nums):\n",
    "        return [\"fizz\" * (not x % 3) + \"buzz\" * (not x % 5) or str(x) if x else str(x) for x in nums]"
   ]
  },
  {
   "cell_type": "code",
   "execution_count": 51,
   "id": "79ced372-2035-44c9-add1-28115d7ba604",
   "metadata": {
    "tags": []
   },
   "outputs": [
    {
     "data": {
      "text/plain": [
       "['0',\n",
       " '1',\n",
       " '2',\n",
       " 'fizz',\n",
       " '4',\n",
       " 'buzz',\n",
       " 'fizz',\n",
       " '7',\n",
       " '8',\n",
       " 'fizz',\n",
       " 'buzz',\n",
       " '11',\n",
       " 'fizz',\n",
       " '13',\n",
       " '14',\n",
       " 'fizzbuzz']"
      ]
     },
     "execution_count": 51,
     "metadata": {},
     "output_type": "execute_result"
    }
   ],
   "source": [
    "fizzbuzz(range(16))"
   ]
  },
  {
   "cell_type": "code",
   "execution_count": 52,
   "id": "a8228109",
   "metadata": {
    "tags": []
   },
   "outputs": [],
   "source": [
    "# =================================================-\n",
    "#### Slide 28: Exercise   ####\n",
    "\n",
    "\n",
    "#######################################################\n",
    "####  CONGRATULATIONS ON COMPLETING THIS MODULE!   ####\n",
    "#######################################################"
   ]
  }
 ],
 "metadata": {
  "kernelspec": {
   "display_name": "Python 3 (ipykernel)",
   "language": "python",
   "name": "python3"
  },
  "language": "python",
  "language_info": {
   "codemirror_mode": {
    "name": "ipython",
    "version": 3
   },
   "file_extension": ".py",
   "mimetype": "text/x-python",
   "name": "python",
   "nbconvert_exporter": "python",
   "pygments_lexer": "ipython3",
   "version": "3.11.4"
  }
 },
 "nbformat": 4,
 "nbformat_minor": 5
}
